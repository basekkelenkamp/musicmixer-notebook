{
 "cells": [
  {
   "cell_type": "code",
   "execution_count": 1,
   "id": "b1db5e30",
   "metadata": {
    "scrolled": true
   },
   "outputs": [
    {
     "name": "stdout",
     "output_type": "stream",
     "text": [
      "The following packages are already present in the pyproject.toml and will be skipped:\r\n",
      "\r\n",
      "  • \u001b[36mrequests\u001b[0m\r\n",
      "\r\n",
      "If you want to update it to the latest compatible version, you can use `poetry update package`.\r\n",
      "If you prefer to upgrade it to the latest available version, you can use `poetry add package@latest`.\r\n",
      "\r\n",
      "Nothing to add.\r\n"
     ]
    }
   ],
   "source": [
    "!poetry add requests"
   ]
  },
  {
   "cell_type": "code",
   "execution_count": 1,
   "id": "d9f172e8",
   "metadata": {},
   "outputs": [],
   "source": [
    "import base64\n",
    "import requests\n",
    "import datetime"
   ]
  },
  {
   "cell_type": "code",
   "execution_count": 2,
   "id": "830362f3",
   "metadata": {},
   "outputs": [],
   "source": [
    "client_id = '6275b1d049e94e5ba0b8e9c54ace6902'\n",
    "client_secret = 'bb7d902ac227494a898d2e04e3b2fbca'"
   ]
  },
  {
   "cell_type": "code",
   "execution_count": 3,
   "id": "f680d850",
   "metadata": {},
   "outputs": [],
   "source": [
    "# Do a lookup for a token to use it for all future requests in session"
   ]
  },
  {
   "cell_type": "code",
   "execution_count": 18,
   "id": "14d5a102",
   "metadata": {},
   "outputs": [],
   "source": [
    "class SpotifyApi(object):\n",
    "    access_token = None\n",
    "    access_token_expires = datetime.datetime.now()\n",
    "    access_token_did_expire = True\n",
    "    client_id = None\n",
    "    client_secret = None\n",
    "    token_url = \"https://accounts.spotify.com/api/token\"\n",
    "    \n",
    "    def __init__(self, client_id, client_secret, *args, **kwargs):\n",
    "        super().__init__(*args, **kwargs)\n",
    "        self.client_id = client_id\n",
    "        self.client_secret = client_secret\n",
    "\n",
    "    def get_client_credentials(self):\n",
    "        \"\"\"\n",
    "        Returns a base64 encoded string\n",
    "        \"\"\"\n",
    "        client_id = self.client_id\n",
    "        client_secret = self.client_secret\n",
    "        if client_secret == None or client_id == None:\n",
    "            raise Exception(\"You must set client_id and client_secret\")\n",
    "            \n",
    "        client_creds = f\"{client_id}:{client_secret}\"\n",
    "        client_creds_b64 = base64.b64encode(client_creds.encode())\n",
    "        return client_creds_b64.decode()\n",
    "    \n",
    "    def get_token_headers(self):\n",
    "        client_creds_b64 = self.get_client_credentials()\n",
    "        return {\"Authorization\": f\"Basic {client_creds_b64}\"}\n",
    "    \n",
    "    def get_token_data(self):\n",
    "        return {\"grant_type\": \"client_credentials\"} \n",
    "    \n",
    "    def perform_auth(self):\n",
    "        token_url = self.token_url\n",
    "        token_data = self.get_token_data()\n",
    "        token_headers = self.get_token_headers()\n",
    "        r = requests.post(token_url, data=token_data, headers=token_headers)\n",
    "        \n",
    "        if r.status_code not in range(200, 299):\n",
    "            return False\n",
    "        \n",
    "        data = r.json()\n",
    "        now = datetime.datetime.now()\n",
    "        access_token = data['access_token']\n",
    "        expires_in = data['expires_in'] # seconds\n",
    "        expires = now + datetime.timedelta(seconds=expires_in)\n",
    "        self.access_token = access_token\n",
    "        self.access_token_expires = expires\n",
    "        self.access_token_did_expire = expires < now\n",
    "        return True\n"
   ]
  },
  {
   "cell_type": "code",
   "execution_count": 22,
   "id": "9151ee15",
   "metadata": {},
   "outputs": [],
   "source": [
    "spotify = SpotifyApi(client_id, client_secret)"
   ]
  },
  {
   "cell_type": "code",
   "execution_count": 23,
   "id": "b747cff3",
   "metadata": {
    "scrolled": false
   },
   "outputs": [
    {
     "data": {
      "text/plain": [
       "True"
      ]
     },
     "execution_count": 23,
     "metadata": {},
     "output_type": "execute_result"
    }
   ],
   "source": [
    "spotify.perform_auth()"
   ]
  },
  {
   "cell_type": "code",
   "execution_count": 24,
   "id": "259d6179",
   "metadata": {},
   "outputs": [
    {
     "name": "stdout",
     "output_type": "stream",
     "text": [
      "BQD1GEmpss5arapHntbFsrD7uhpU4fFNnPWNhdwzTYHu2sody2y95BTcjg1hzKhyVxoXj9Y9Zc2FNhStU0M\n"
     ]
    }
   ],
   "source": [
    "access_token = spotify.access_token"
   ]
  },
  {
   "cell_type": "code",
   "execution_count": null,
   "id": "9d0221d5",
   "metadata": {},
   "outputs": [],
   "source": [
    "# spotify.search"
   ]
  }
 ],
 "metadata": {
  "kernelspec": {
   "display_name": "Python 3 (ipykernel)",
   "language": "python",
   "name": "python3"
  },
  "language_info": {
   "codemirror_mode": {
    "name": "ipython",
    "version": 3
   },
   "file_extension": ".py",
   "mimetype": "text/x-python",
   "name": "python",
   "nbconvert_exporter": "python",
   "pygments_lexer": "ipython3",
   "version": "3.10.2"
  }
 },
 "nbformat": 4,
 "nbformat_minor": 5
}
